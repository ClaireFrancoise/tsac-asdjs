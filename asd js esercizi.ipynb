{
 "metadata": {
  "name": ""
 },
 "nbformat": 3,
 "nbformat_minor": 0,
 "worksheets": [
  {
   "cells": [
    {
     "cell_type": "markdown",
     "metadata": {},
     "source": [
      "##esercizio 1 \n",
      "####iterativo"
     ]
    },
    {
     "cell_type": "code",
     "collapsed": false,
     "input": [
      "function sumAll(a){\n",
      "    somma = 0;\n",
      "    for(i = 0; i < a.length; i++){\n",
      "        if(a[i] < 0){\n",
      "           return somma;\n",
      "       }\n",
      "        somma = somma + a[i];\n",
      "    }\n",
      "    return somma;\n",
      "}"
     ],
     "language": "python",
     "metadata": {},
     "outputs": [
      {
       "metadata": {},
       "output_type": "pyout",
       "prompt_number": 2,
       "text": [
        "undefined"
       ]
      }
     ],
     "prompt_number": 2
    },
    {
     "cell_type": "code",
     "collapsed": false,
     "input": [
      "x = [1, 3, -4, 5];"
     ],
     "language": "python",
     "metadata": {},
     "outputs": [
      {
       "metadata": {},
       "output_type": "pyout",
       "prompt_number": 3,
       "text": [
        "[ 1, 3, -4, 5 ]"
       ]
      }
     ],
     "prompt_number": 3
    },
    {
     "cell_type": "code",
     "collapsed": false,
     "input": [
      "sumAll(x);"
     ],
     "language": "python",
     "metadata": {},
     "outputs": [
      {
       "metadata": {},
       "output_type": "pyout",
       "prompt_number": 4,
       "text": [
        "4"
       ]
      }
     ],
     "prompt_number": 4
    },
    {
     "cell_type": "markdown",
     "metadata": {},
     "source": [
      "##esercizio 1\n",
      "####ricorsivo"
     ]
    },
    {
     "cell_type": "code",
     "collapsed": false,
     "input": [
      "function sumAllR(a){\n",
      "        if(a.length == 0){\n",
      "           return 0;\n",
      "       }\n",
      "        if (a[0] < 0){\n",
      "            return 0;\n",
      "        }else{\n",
      "            return a[0] + sumAllR(a.slice(1));\n",
      "        }\n",
      "}\n"
     ],
     "language": "python",
     "metadata": {},
     "outputs": [
      {
       "metadata": {},
       "output_type": "pyout",
       "prompt_number": 5,
       "text": [
        "undefined"
       ]
      }
     ],
     "prompt_number": 5
    },
    {
     "cell_type": "code",
     "collapsed": false,
     "input": [
      "sumAllR(x);"
     ],
     "language": "python",
     "metadata": {},
     "outputs": [
      {
       "metadata": {},
       "output_type": "pyout",
       "prompt_number": 6,
       "text": [
        "4"
       ]
      }
     ],
     "prompt_number": 6
    },
    {
     "cell_type": "markdown",
     "metadata": {},
     "source": [
      "##esercizio 2\n",
      "####iterativo"
     ]
    },
    {
     "cell_type": "code",
     "collapsed": false,
     "input": [
      "function sumAllD(x){\n",
      "    somma = 0;\n",
      "    for(i = 0; i < (x*2); i++){\n",
      "        if((i%2) != 0){\n",
      "            somma = somma + i;\n",
      "        } \n",
      "    }\n",
      "    return somma;\n",
      "}"
     ],
     "language": "python",
     "metadata": {},
     "outputs": [
      {
       "metadata": {},
       "output_type": "pyout",
       "prompt_number": 7,
       "text": [
        "undefined"
       ]
      }
     ],
     "prompt_number": 7
    },
    {
     "cell_type": "code",
     "collapsed": false,
     "input": [
      "b = 3;"
     ],
     "language": "python",
     "metadata": {},
     "outputs": [
      {
       "metadata": {},
       "output_type": "pyout",
       "prompt_number": 8,
       "text": [
        "3"
       ]
      }
     ],
     "prompt_number": 8
    },
    {
     "cell_type": "code",
     "collapsed": false,
     "input": [
      "sumAllD(b);"
     ],
     "language": "python",
     "metadata": {},
     "outputs": [
      {
       "metadata": {},
       "output_type": "pyout",
       "prompt_number": 9,
       "text": [
        "9"
       ]
      }
     ],
     "prompt_number": 9
    },
    {
     "cell_type": "markdown",
     "metadata": {},
     "source": [
      "##esercizio 2\n",
      "####ricorsivo"
     ]
    },
    {
     "cell_type": "code",
     "collapsed": false,
     "input": [
      "function sumAllD(x, num){\n",
      "        if (x == 0){\n",
      "            return 0;\n",
      "        }\n",
      "        if((num%2) != 0){\n",
      "            return num + sumAllD((x -1), num +1);\n",
      "        } else {\n",
      "            return sumAllD(x, num +1);\n",
      "        }\n",
      "}"
     ],
     "language": "python",
     "metadata": {},
     "outputs": [
      {
       "metadata": {},
       "output_type": "pyout",
       "prompt_number": 10,
       "text": [
        "undefined"
       ]
      }
     ],
     "prompt_number": 10
    },
    {
     "cell_type": "code",
     "collapsed": false,
     "input": [
      "sumAllD(b, 0);"
     ],
     "language": "python",
     "metadata": {},
     "outputs": [
      {
       "metadata": {},
       "output_type": "pyout",
       "prompt_number": 11,
       "text": [
        "9"
       ]
      }
     ],
     "prompt_number": 11
    },
    {
     "cell_type": "markdown",
     "metadata": {},
     "source": [
      "##esercizio 3\n",
      "####iterativo"
     ]
    },
    {
     "cell_type": "code",
     "collapsed": false,
     "input": [
      "function media(n){\n",
      "    m = 0;\n",
      "    m = sumAll(n) / n.length;\n",
      "    return m;\n",
      "}\n"
     ],
     "language": "python",
     "metadata": {},
     "outputs": [
      {
       "metadata": {},
       "output_type": "pyout",
       "prompt_number": 12,
       "text": [
        "undefined"
       ]
      }
     ],
     "prompt_number": 12
    },
    {
     "cell_type": "code",
     "collapsed": false,
     "input": [
      "c = [1, 2, 3, 4, 5, 6, 7, 8, 9, 10];"
     ],
     "language": "python",
     "metadata": {},
     "outputs": [
      {
       "metadata": {},
       "output_type": "pyout",
       "prompt_number": 13,
       "text": [
        "[ 1, 2, 3, 4, 5, 6, 7, 8, 9, 10 ]"
       ]
      }
     ],
     "prompt_number": 13
    },
    {
     "cell_type": "code",
     "collapsed": false,
     "input": [
      "media(c);"
     ],
     "language": "python",
     "metadata": {},
     "outputs": [
      {
       "metadata": {},
       "output_type": "pyout",
       "prompt_number": 14,
       "text": [
        "5.5"
       ]
      }
     ],
     "prompt_number": 14
    },
    {
     "cell_type": "markdown",
     "metadata": {},
     "source": [
      "##esercizio 3\n",
      "####ricorsivo"
     ]
    },
    {
     "cell_type": "code",
     "collapsed": false,
     "input": [
      "function mediaR(n){\n",
      "    return sumAllR(n) / n.length;\n",
      "}\n"
     ],
     "language": "python",
     "metadata": {},
     "outputs": [
      {
       "metadata": {},
       "output_type": "pyout",
       "prompt_number": 15,
       "text": [
        "undefined"
       ]
      }
     ],
     "prompt_number": 15
    },
    {
     "cell_type": "code",
     "collapsed": false,
     "input": [
      "mediaR(c);"
     ],
     "language": "python",
     "metadata": {},
     "outputs": [
      {
       "metadata": {},
       "output_type": "pyout",
       "prompt_number": 16,
       "text": [
        "5.5"
       ]
      }
     ],
     "prompt_number": 16
    },
    {
     "cell_type": "markdown",
     "metadata": {},
     "source": [
      "##esercizio 4\n",
      "####iterativo"
     ]
    },
    {
     "cell_type": "code",
     "collapsed": false,
     "input": [
      "function intervallo(x,y){\n",
      "    somma = 0;\n",
      "    if(x > y){\n",
      "        for (i = y; i <= x; i++){\n",
      "            somma = somma + i;\n",
      "        }\n",
      "        return somma;\n",
      "    }else {\n",
      "        for (i = x; i <= y; i++){\n",
      "            somma = somma + i;\n",
      "        }\n",
      "        return somma;\n",
      "    }\n",
      "}"
     ],
     "language": "python",
     "metadata": {},
     "outputs": [
      {
       "metadata": {},
       "output_type": "pyout",
       "prompt_number": 17,
       "text": [
        "undefined"
       ]
      }
     ],
     "prompt_number": 17
    },
    {
     "cell_type": "code",
     "collapsed": false,
     "input": [
      "intervallo(3, 5);"
     ],
     "language": "python",
     "metadata": {},
     "outputs": [
      {
       "metadata": {},
       "output_type": "pyout",
       "prompt_number": 18,
       "text": [
        "12"
       ]
      }
     ],
     "prompt_number": 18
    },
    {
     "cell_type": "markdown",
     "metadata": {},
     "source": [
      "##esercizio 4\n",
      "####ricorsivo"
     ]
    },
    {
     "cell_type": "code",
     "collapsed": false,
     "input": [
      "function intervalloR(x,y){\n",
      "    if (x > y) {\n",
      "       return 0;\n",
      "    }\n",
      "    return x + intervalloR(x + 1, y)\n",
      "}"
     ],
     "language": "python",
     "metadata": {},
     "outputs": [
      {
       "metadata": {},
       "output_type": "pyout",
       "prompt_number": 19,
       "text": [
        "undefined"
       ]
      }
     ],
     "prompt_number": 19
    },
    {
     "cell_type": "code",
     "collapsed": false,
     "input": [
      "function F_intervalloR(x, y){\n",
      "    if (x > y){\n",
      "        return intervalloR(y, x);\n",
      "    } else {\n",
      "        return intervalloR(x, y);\n",
      "    }\n",
      "}"
     ],
     "language": "python",
     "metadata": {},
     "outputs": [
      {
       "metadata": {},
       "output_type": "pyout",
       "prompt_number": 20,
       "text": [
        "undefined"
       ]
      }
     ],
     "prompt_number": 20
    },
    {
     "cell_type": "code",
     "collapsed": false,
     "input": [
      "F_intervalloR(5,3);"
     ],
     "language": "python",
     "metadata": {},
     "outputs": [
      {
       "metadata": {},
       "output_type": "pyout",
       "prompt_number": 21,
       "text": [
        "12"
       ]
      }
     ],
     "prompt_number": 21
    },
    {
     "cell_type": "markdown",
     "metadata": {},
     "source": [
      "##esercizio 5\n",
      "####iterativo"
     ]
    },
    {
     "cell_type": "code",
     "collapsed": false,
     "input": [
      "function molt(x, y){\n",
      "    somma = 0;\n",
      "    for (i = 0; i < y; i++){\n",
      "        somma = somma + x;\n",
      "    }\n",
      "    return somma;\n",
      "}"
     ],
     "language": "python",
     "metadata": {},
     "outputs": [
      {
       "metadata": {},
       "output_type": "pyout",
       "prompt_number": 22,
       "text": [
        "undefined"
       ]
      }
     ],
     "prompt_number": 22
    },
    {
     "cell_type": "code",
     "collapsed": false,
     "input": [
      "molt(5,6);"
     ],
     "language": "python",
     "metadata": {},
     "outputs": [
      {
       "metadata": {},
       "output_type": "pyout",
       "prompt_number": 23,
       "text": [
        "30"
       ]
      }
     ],
     "prompt_number": 23
    },
    {
     "cell_type": "markdown",
     "metadata": {},
     "source": [
      "##esercizio 5\n",
      "####ricorsivo"
     ]
    },
    {
     "cell_type": "code",
     "collapsed": false,
     "input": [
      "function moltR(x, y){\n",
      "    if (x < 0 || y < 0){\n",
      "        return 0;\n",
      "    }\n",
      "    if (y == 0){\n",
      "         return 0;\n",
      "    }else {\n",
      "         return x + moltR(x, y-1);\n",
      "    }\n",
      "}"
     ],
     "language": "python",
     "metadata": {},
     "outputs": [
      {
       "metadata": {},
       "output_type": "pyout",
       "prompt_number": 24,
       "text": [
        "undefined"
       ]
      }
     ],
     "prompt_number": 24
    },
    {
     "cell_type": "code",
     "collapsed": false,
     "input": [
      "moltR(2,3);"
     ],
     "language": "python",
     "metadata": {},
     "outputs": [
      {
       "metadata": {},
       "output_type": "pyout",
       "prompt_number": 25,
       "text": [
        "6"
       ]
      }
     ],
     "prompt_number": 25
    },
    {
     "cell_type": "markdown",
     "metadata": {},
     "source": [
      "##esercizio 6\n",
      "####iterativo"
     ]
    },
    {
     "cell_type": "code",
     "collapsed": false,
     "input": [
      "function div(x,y){\n",
      "    ris = 0;\n",
      "    resto = 0;\n",
      "    for(i = 0; i <= x; i++){\n",
      "        ris = ris + i;\n",
      "        x = x-y;\n",
      "    }\n",
      "    resto = ris - x;\n",
      "    console.log(ris + ' resto ' +  resto);\n",
      "}"
     ],
     "language": "python",
     "metadata": {},
     "outputs": [
      {
       "metadata": {},
       "output_type": "pyout",
       "prompt_number": 26,
       "text": [
        "undefined"
       ]
      }
     ],
     "prompt_number": 26
    },
    {
     "cell_type": "code",
     "collapsed": false,
     "input": [
      "div(5,3);"
     ],
     "language": "python",
     "metadata": {},
     "outputs": [
      {
       "output_type": "stream",
       "stream": "stdout",
       "text": [
        "1 resto 2\n"
       ]
      },
      {
       "metadata": {},
       "output_type": "pyout",
       "prompt_number": 27,
       "text": [
        "undefined"
       ]
      }
     ],
     "prompt_number": 27
    },
    {
     "cell_type": "markdown",
     "metadata": {},
     "source": [
      "##esercizio 6\n",
      "####ricorsivo"
     ]
    },
    {
     "cell_type": "code",
     "collapsed": false,
     "input": [
      "function divR(x,y){\n",
      "    if (x < y){\n",
      "        return 0;\n",
      "    } else {\n",
      "        return 1 + divR((x-y),y);\n",
      "    }\n",
      "}"
     ],
     "language": "python",
     "metadata": {},
     "outputs": [
      {
       "metadata": {},
       "output_type": "pyout",
       "prompt_number": 28,
       "text": [
        "undefined"
       ]
      }
     ],
     "prompt_number": 28
    },
    {
     "cell_type": "code",
     "collapsed": false,
     "input": [
      "function F_divR(x, y){\n",
      "    if (x < 0 || y < 0){\n",
      "        return 0;\n",
      "    } else {\n",
      "        risultato = divR(x, y);\n",
      "        console.log('risultato ' + risultato + ' resto ' + (x- molt(ris, b)));\n",
      "    }\n",
      "}"
     ],
     "language": "python",
     "metadata": {},
     "outputs": [
      {
       "metadata": {},
       "output_type": "pyout",
       "prompt_number": 29,
       "text": [
        "undefined"
       ]
      }
     ],
     "prompt_number": 29
    },
    {
     "cell_type": "code",
     "collapsed": false,
     "input": [
      "F_divR(5,3);"
     ],
     "language": "python",
     "metadata": {},
     "outputs": [
      {
       "output_type": "stream",
       "stream": "stdout",
       "text": [
        "risultato 1 resto 2\n"
       ]
      },
      {
       "metadata": {},
       "output_type": "pyout",
       "prompt_number": 30,
       "text": [
        "undefined"
       ]
      }
     ],
     "prompt_number": 30
    },
    {
     "cell_type": "markdown",
     "metadata": {},
     "source": [
      "##esrcizio 7\n",
      "####ricorsivo"
     ]
    },
    {
     "cell_type": "code",
     "collapsed": false,
     "input": [
      "function potenzaR(x, y, n){\n",
      "    if (y == 1){\n",
      "        return n;\n",
      "    } else {\n",
      "        return potenzaR(x, y-1, molt(x,n));\n",
      "    }\n",
      "}"
     ],
     "language": "python",
     "metadata": {},
     "outputs": [
      {
       "metadata": {},
       "output_type": "pyout",
       "prompt_number": 34,
       "text": [
        "undefined"
       ]
      }
     ],
     "prompt_number": 34
    },
    {
     "cell_type": "code",
     "collapsed": false,
     "input": [
      "potenzaR(3,3,3);"
     ],
     "language": "python",
     "metadata": {},
     "outputs": [
      {
       "metadata": {},
       "output_type": "pyout",
       "prompt_number": 37,
       "text": [
        "27"
       ]
      }
     ],
     "prompt_number": 37
    },
    {
     "cell_type": "markdown",
     "metadata": {},
     "source": [
      "##esercizio 7\n",
      "####iterativa"
     ]
    },
    {
     "cell_type": "code",
     "collapsed": false,
     "input": [
      "function potenza(x, y){\n",
      "    pot = x;\n",
      "    while(y >1){\n",
      "        pot = molt(pot, x);\n",
      "        y--;\n",
      "    }\n",
      "    return pot;\n",
      "}"
     ],
     "language": "python",
     "metadata": {},
     "outputs": [
      {
       "metadata": {},
       "output_type": "pyout",
       "prompt_number": 38,
       "text": [
        "undefined"
       ]
      }
     ],
     "prompt_number": 38
    },
    {
     "cell_type": "code",
     "collapsed": false,
     "input": [
      "potenza(2,3);"
     ],
     "language": "python",
     "metadata": {},
     "outputs": [
      {
       "metadata": {},
       "output_type": "pyout",
       "prompt_number": 41,
       "text": [
        "8"
       ]
      }
     ],
     "prompt_number": 41
    },
    {
     "cell_type": "markdown",
     "metadata": {},
     "source": [
      "##esrcizio 8\n",
      "####iterativa"
     ]
    },
    {
     "cell_type": "code",
     "collapsed": false,
     "input": [],
     "language": "python",
     "metadata": {},
     "outputs": []
    }
   ],
   "metadata": {}
  }
 ]
}